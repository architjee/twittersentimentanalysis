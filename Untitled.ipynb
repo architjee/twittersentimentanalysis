{
 "cells": [
  {
   "cell_type": "markdown",
   "metadata": {},
   "source": [
    "# Twitter Sentiment Analysis"
   ]
  },
  {
   "cell_type": "markdown",
   "metadata": {},
   "source": [
    "### Essentially, it is the process of determining whether a piece of writing is positive or negative. This is also called the Polarity of the content."
   ]
  },
  {
   "cell_type": "code",
   "execution_count": 1,
   "metadata": {},
   "outputs": [],
   "source": [
    "import twitter"
   ]
  },
  {
   "cell_type": "code",
   "execution_count": 3,
   "metadata": {},
   "outputs": [
    {
     "ename": "AttributeError",
     "evalue": "module 'twitter' has no attribute 'Api'",
     "output_type": "error",
     "traceback": [
      "\u001b[0;31m---------------------------------------------------------------------------\u001b[0m",
      "\u001b[0;31mAttributeError\u001b[0m                            Traceback (most recent call last)",
      "\u001b[0;32m<ipython-input-3-e4ba59ef9fac>\u001b[0m in \u001b[0;36m<module>\u001b[0;34m\u001b[0m\n\u001b[1;32m      1\u001b[0m \u001b[0;31m# Now comes the part of initializing a twitter api instance.\u001b[0m\u001b[0;34m\u001b[0m\u001b[0;34m\u001b[0m\u001b[0;34m\u001b[0m\u001b[0m\n\u001b[0;32m----> 2\u001b[0;31m \u001b[0mtwitter_api\u001b[0m \u001b[0;34m=\u001b[0m \u001b[0mtwitter\u001b[0m\u001b[0;34m.\u001b[0m\u001b[0mApi\u001b[0m\u001b[0;34m(\u001b[0m\u001b[0mconsumer_key\u001b[0m\u001b[0;34m=\u001b[0m\u001b[0;34m'ani5fGIKDBdEuAsVXuclO0F7E'\u001b[0m\u001b[0;34m,\u001b[0m\u001b[0mconsumer_secret\u001b[0m\u001b[0;34m=\u001b[0m\u001b[0;34m'Aot2VDi07jKrrgzNf8sW8zpBLUN52fdFwj3jcapZve7SkJh2kZ'\u001b[0m\u001b[0;34m,\u001b[0m\u001b[0maccess_token\u001b[0m \u001b[0;34m=\u001b[0m \u001b[0;34m'236754063-RKfLTvTHLQnhIJFgV12dAtmderarSQvpW5HDpCOy'\u001b[0m\u001b[0;34m,\u001b[0m\u001b[0maccess_token_secret\u001b[0m \u001b[0;34m=\u001b[0m \u001b[0;34m'auryHVfZYaGjIL5fKajQOV3aRbnxoZyPEP0Wp764mA70k'\u001b[0m\u001b[0;34m)\u001b[0m\u001b[0;34m\u001b[0m\u001b[0;34m\u001b[0m\u001b[0m\n\u001b[0m",
      "\u001b[0;31mAttributeError\u001b[0m: module 'twitter' has no attribute 'Api'"
     ]
    }
   ],
   "source": [
    "# Now comes the part of initializing a twitter api instance.\n",
    "twitter_api = twitter.Api(consumer_key='ani5fGIKDBdEuAsVXuclO0F7E',consumer_secret='Aot2VDi07jKrrgzNf8sW8zpBLUN52fdFwj3jcapZve7SkJh2kZ',access_token = '236754063-RKfLTvTHLQnhIJFgV12dAtmderarSQvpW5HDpCOy',access_token_secret = 'auryHVfZYaGjIL5fKajQOV3aRbnxoZyPEP0Wp764mA70k')\n"
   ]
  },
  {
   "cell_type": "code",
   "execution_count": 4,
   "metadata": {},
   "outputs": [
    {
     "ename": "SyntaxError",
     "evalue": "invalid syntax (<ipython-input-4-93ba38820466>, line 1)",
     "output_type": "error",
     "traceback": [
      "\u001b[0;36m  File \u001b[0;32m\"<ipython-input-4-93ba38820466>\"\u001b[0;36m, line \u001b[0;32m1\u001b[0m\n\u001b[0;31m    print dir(twitter)\u001b[0m\n\u001b[0m            ^\u001b[0m\n\u001b[0;31mSyntaxError\u001b[0m\u001b[0;31m:\u001b[0m invalid syntax\n"
     ]
    }
   ],
   "source": [
    "print dir(twitter)"
   ]
  },
  {
   "cell_type": "code",
   "execution_count": 5,
   "metadata": {},
   "outputs": [
    {
     "name": "stdout",
     "output_type": "stream",
     "text": [
      "<module 'twitter' (namespace)>\n"
     ]
    }
   ],
   "source": [
    "print(twitter)"
   ]
  },
  {
   "cell_type": "code",
   "execution_count": null,
   "metadata": {},
   "outputs": [],
   "source": []
  }
 ],
 "metadata": {
  "kernelspec": {
   "display_name": "Python 3",
   "language": "python",
   "name": "python3"
  },
  "language_info": {
   "codemirror_mode": {
    "name": "ipython",
    "version": 3
   },
   "file_extension": ".py",
   "mimetype": "text/x-python",
   "name": "python",
   "nbconvert_exporter": "python",
   "pygments_lexer": "ipython3",
   "version": "3.7.4"
  }
 },
 "nbformat": 4,
 "nbformat_minor": 2
}
